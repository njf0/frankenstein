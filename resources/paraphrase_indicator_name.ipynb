{
 "cells": [
  {
   "cell_type": "code",
   "execution_count": 129,
   "id": "ab8f05a0",
   "metadata": {},
   "outputs": [],
   "source": [
    "import json\n",
    "from pathlib import Path\n",
    "\n",
    "import pandas as pd\n",
    "from openai import OpenAI\n",
    "from tqdm import tqdm"
   ]
  },
  {
   "cell_type": "code",
   "execution_count": 130,
   "id": "2823f793",
   "metadata": {},
   "outputs": [],
   "source": [
    "client = OpenAI()"
   ]
  },
  {
   "cell_type": "code",
   "execution_count": 131,
   "id": "f8844e2c",
   "metadata": {},
   "outputs": [
    {
     "data": {
      "text/html": [
       "<div>\n",
       "<style scoped>\n",
       "    .dataframe tbody tr th:only-of-type {\n",
       "        vertical-align: middle;\n",
       "    }\n",
       "\n",
       "    .dataframe tbody tr th {\n",
       "        vertical-align: top;\n",
       "    }\n",
       "\n",
       "    .dataframe thead th {\n",
       "        text-align: right;\n",
       "    }\n",
       "</style>\n",
       "<table border=\"1\" class=\"dataframe\">\n",
       "  <thead>\n",
       "    <tr style=\"text-align: right;\">\n",
       "      <th></th>\n",
       "      <th>id</th>\n",
       "      <th>name</th>\n",
       "      <th>sourceNote</th>\n",
       "    </tr>\n",
       "  </thead>\n",
       "  <tbody>\n",
       "    <tr>\n",
       "      <th>0</th>\n",
       "      <td>AG.CON.FERT.ZS</td>\n",
       "      <td>Fertilizer consumption (kilograms per hectare ...</td>\n",
       "      <td>Fertilizer consumption measures the quantity o...</td>\n",
       "    </tr>\n",
       "    <tr>\n",
       "      <th>1</th>\n",
       "      <td>AG.LND.AGRI.ZS</td>\n",
       "      <td>Agricultural land (% of land area)</td>\n",
       "      <td>Agricultural land refers to the share of land ...</td>\n",
       "    </tr>\n",
       "    <tr>\n",
       "      <th>2</th>\n",
       "      <td>AG.LND.ARBL.HA.PC</td>\n",
       "      <td>Arable land (hectares per person)</td>\n",
       "      <td>Arable land (hectares per person) includes lan...</td>\n",
       "    </tr>\n",
       "    <tr>\n",
       "      <th>3</th>\n",
       "      <td>AG.LND.ARBL.ZS</td>\n",
       "      <td>Arable land (% of land area)</td>\n",
       "      <td>Arable land includes land defined by the FAO a...</td>\n",
       "    </tr>\n",
       "    <tr>\n",
       "      <th>4</th>\n",
       "      <td>AG.LND.CREL.HA</td>\n",
       "      <td>Land under cereal production (hectares)</td>\n",
       "      <td>Land under cereal production refers to harvest...</td>\n",
       "    </tr>\n",
       "  </tbody>\n",
       "</table>\n",
       "</div>"
      ],
      "text/plain": [
       "                  id                                               name  \\\n",
       "0     AG.CON.FERT.ZS  Fertilizer consumption (kilograms per hectare ...   \n",
       "1     AG.LND.AGRI.ZS                 Agricultural land (% of land area)   \n",
       "2  AG.LND.ARBL.HA.PC                  Arable land (hectares per person)   \n",
       "3     AG.LND.ARBL.ZS                       Arable land (% of land area)   \n",
       "4     AG.LND.CREL.HA            Land under cereal production (hectares)   \n",
       "\n",
       "                                          sourceNote  \n",
       "0  Fertilizer consumption measures the quantity o...  \n",
       "1  Agricultural land refers to the share of land ...  \n",
       "2  Arable land (hectares per person) includes lan...  \n",
       "3  Arable land includes land defined by the FAO a...  \n",
       "4  Land under cereal production refers to harvest...  "
      ]
     },
     "execution_count": 131,
     "metadata": {},
     "output_type": "execute_result"
    }
   ],
   "source": [
    "indicators = pd.read_csv('wdi.csv')\n",
    "indicators.head()"
   ]
  },
  {
   "cell_type": "code",
   "execution_count": 132,
   "id": "0ced609a",
   "metadata": {},
   "outputs": [],
   "source": [
    "def paraphrase_indicator(\n",
    "    name,\n",
    "    source_note=None,\n",
    "    model='gpt-4o-mini',\n",
    ") -> str:\n",
    "    \"\"\"Paraphrase a World Bank indicator name into simpler and more understandable terms.\n",
    "\n",
    "    Parameters\n",
    "    ----------\n",
    "    name : str\n",
    "        The World Bank indicator name to paraphrase.\n",
    "    source_note : str, optional\n",
    "        Additional context about the indicator name.\n",
    "    model : str, optional\n",
    "        The OpenAI model to use for generating the paraphrase.\n",
    "\n",
    "    Returns\n",
    "    -------\n",
    "    str\n",
    "        The paraphrased version of the indicator name.\n",
    "\n",
    "    \"\"\"\n",
    "    system_prompt = \"\"\"You are a helpful assistant that paraphrases technical terms. Rewrite the following World Bank indicator name using the context provided in the additional description.\n",
    "\n",
    "    Return five (5) clear, concise paraphrases of the indicator name in a semicolon-delimited list.\n",
    "\n",
    "    Focus on incorporating terms in brackets into the phrase e.g., \"(% of fertilizer production)\" to \"as a percentage of fertilizer production\".\n",
    "\n",
    "    Transform the ungrammatical forms into grammatically correct phrases.\n",
    "\n",
    "    Do not include additional information from the additional description, but use this context to clarify the meaning.\n",
    "\n",
    "    It is imperative that paraphrases are faithful to the precise meaning of the original.\n",
    "\n",
    "    Do not make the paraphrases overly formal, verbose, or cumbersome, but ensure that meaning is preserved.\n",
    "\n",
    "    Do not capitalize the first letter of the paraphrases unless it is a proper noun or an acronym.\n",
    "    \"\"\"\n",
    "\n",
    "    user_prompt = f\"\"\"Indicator name: {name}\n",
    "\n",
    "    Additional description of indicator: {source_note}\n",
    "    \"\"\"\n",
    "\n",
    "    client = OpenAI()\n",
    "    response = client.chat.completions.create(\n",
    "        model=model,\n",
    "        messages=[\n",
    "            {\n",
    "                'role': 'system',\n",
    "                'content': system_prompt,\n",
    "            },\n",
    "            {\n",
    "                'role': 'user',\n",
    "                'content': user_prompt,\n",
    "            },\n",
    "        ],\n",
    "        temperature=0.2,\n",
    "        max_tokens=90,\n",
    "    )\n",
    "    return response.choices[0].message.content"
   ]
  },
  {
   "cell_type": "code",
   "execution_count": null,
   "id": "6ecbb03a",
   "metadata": {},
   "outputs": [
    {
     "name": "stderr",
     "output_type": "stream",
     "text": [
      "VC.IHR.PSRC.P5: 100%|██████████| 296/296 [07:48<00:00,  1.58s/it]      \n"
     ]
    }
   ],
   "source": [
    "# sample = indicators.sample(3).to_dict(orient='records')\n",
    "sample = indicators.to_dict(orient='records')\n",
    "\n",
    "paraphrases = []\n",
    "pbar = tqdm(sample, desc='Paraphrasing indicators', leave=True)\n",
    "\n",
    "for s in pbar:\n",
    "    pbar.set_description_str(s['id'])\n",
    "    p = paraphrase_indicator(s['name'], s['description'], model='gpt-4o-mini')\n",
    "    paraphrases.append({'id': s['id'], 'name': s['name'], 'description': s['description'], 'paraphrase': p})\n"
   ]
  },
  {
   "cell_type": "code",
   "execution_count": 134,
   "id": "8f2fd9eb",
   "metadata": {},
   "outputs": [],
   "source": [
    "# Make paraphrases a dict where the key is the indicator ID\n",
    "paraphrases = {paraphrase['id']: [p.strip() for p in paraphrase['paraphrase'].split(';')] for paraphrase in paraphrases}\n",
    "\n",
    "with Path('indicator_paraphrases.json').open('w') as f:\n",
    "    json.dump(paraphrases, f, indent=2)"
   ]
  }
 ],
 "metadata": {
  "kernelspec": {
   "display_name": ".venv",
   "language": "python",
   "name": "python3"
  },
  "language_info": {
   "codemirror_mode": {
    "name": "ipython",
    "version": 3
   },
   "file_extension": ".py",
   "mimetype": "text/x-python",
   "name": "python",
   "nbconvert_exporter": "python",
   "pygments_lexer": "ipython3",
   "version": "3.12.10"
  }
 },
 "nbformat": 4,
 "nbformat_minor": 5
}
