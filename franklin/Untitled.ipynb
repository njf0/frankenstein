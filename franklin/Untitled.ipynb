{
 "cells": [
  {
   "cell_type": "code",
   "execution_count": 68,
   "id": "62929324",
   "metadata": {},
   "outputs": [],
   "source": [
    "from openai import OpenAI\n",
    "from pydantic import BaseModel"
   ]
  },
  {
   "cell_type": "code",
   "execution_count": 69,
   "id": "acf779c2",
   "metadata": {},
   "outputs": [],
   "source": [
    "class Think(BaseModel):\n",
    "    thought: str\n",
    "\n",
    "    def forward(self):\n",
    "        \"\"\"Return the thought.\"\"\"\n",
    "        return self.thought\n",
    "\n",
    "\n",
    "class Add(BaseModel):\n",
    "    values: list[str]\n",
    "\n",
    "    def forward(self):\n",
    "        \"\"\"Return the sum of the values.\"\"\"\n",
    "        return sum([float(value) for value in self.values])\n",
    "\n",
    "\n",
    "class ToolCalls(BaseModel):\n",
    "    tool_calls: list[Think | Add]\n"
   ]
  },
  {
   "cell_type": "code",
   "execution_count": 72,
   "id": "dd40e429",
   "metadata": {},
   "outputs": [],
   "source": [
    "client = OpenAI()\n",
    "\n",
    "response = client.responses.parse(\n",
    "    model='gpt-4o-2024-08-06',\n",
    "    input=[\n",
    "        {\n",
    "            'role': 'system',\n",
    "            'content': 'Answer the question by creating a tool call. I will then execute the tool call and return the result to you.',\n",
    "        },\n",
    "        {'role': 'user', 'content': 'What is 1 + 2 + 3?'},\n",
    "    ],\n",
    "    text_format=ToolCalls,\n",
    ")"
   ]
  },
  {
   "cell_type": "code",
   "execution_count": 73,
   "id": "e95df2c2",
   "metadata": {},
   "outputs": [
    {
     "data": {
      "text/plain": [
       "ToolCalls(tool_calls=[Add(values=['1', '2', '3'])])"
      ]
     },
     "execution_count": 73,
     "metadata": {},
     "output_type": "execute_result"
    }
   ],
   "source": [
    "response.output_parsed"
   ]
  },
  {
   "cell_type": "code",
   "execution_count": 85,
   "id": "c8c5d654",
   "metadata": {},
   "outputs": [
    {
     "name": "stdout",
     "output_type": "stream",
     "text": [
      "Tool: Add, Result: 6.0\n",
      "{'values': ['1', '2', '3']}\n"
     ]
    }
   ],
   "source": [
    "for call in response.output_parsed.tool_calls:\n",
    "    result = call.forward()\n",
    "    print(f'Tool: {call.__class__.__name__}, Result: {result}')\n",
    "    # create 'arguments' dictionary\n",
    "    arguments = call.model_dump()\n",
    "    print(arguments)"
   ]
  }
 ],
 "metadata": {
  "kernelspec": {
   "display_name": ".venv",
   "language": "python",
   "name": "python3"
  },
  "language_info": {
   "codemirror_mode": {
    "name": "ipython",
    "version": 3
   },
   "file_extension": ".py",
   "mimetype": "text/x-python",
   "name": "python",
   "nbconvert_exporter": "python",
   "pygments_lexer": "ipython3",
   "version": "3.12.10"
  }
 },
 "nbformat": 4,
 "nbformat_minor": 5
}
