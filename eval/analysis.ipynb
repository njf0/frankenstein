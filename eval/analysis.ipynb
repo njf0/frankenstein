{
 "cells": [
  {
   "cell_type": "code",
   "execution_count": 1,
   "id": "6ff72016",
   "metadata": {},
   "outputs": [
    {
     "data": {
      "text/html": [
       "<pre style=\"white-space:pre;overflow-x:auto;line-height:normal;font-family:Menlo,'DejaVu Sans Mono',consolas,'Courier New',monospace\"><span style=\"color: #7fbfbf; text-decoration-color: #7fbfbf\">[16:53:51] </span><span style=\"color: #808000; text-decoration-color: #808000\">WARNING </span> Could not load country code map: <span style=\"font-weight: bold\">[</span>Errno <span style=\"color: #008080; text-decoration-color: #008080; font-weight: bold\">2</span><span style=\"font-weight: bold\">]</span> No such file or directory:             <a href=\"file:///Users/njf/code/frankenstein/eval/matcher.py\" target=\"_blank\"><span style=\"color: #7f7f7f; text-decoration-color: #7f7f7f\">matcher.py</span></a><span style=\"color: #7f7f7f; text-decoration-color: #7f7f7f\">:</span><a href=\"file:///Users/njf/code/frankenstein/eval/matcher.py#32\" target=\"_blank\"><span style=\"color: #7f7f7f; text-decoration-color: #7f7f7f\">32</span></a>\n",
       "<span style=\"color: #7fbfbf; text-decoration-color: #7fbfbf\">           </span>         <span style=\"color: #008000; text-decoration-color: #008000\">'resources/un_m49_cleaned.csv'</span>                                                    <span style=\"color: #7f7f7f; text-decoration-color: #7f7f7f\">             </span>\n",
       "</pre>\n"
      ],
      "text/plain": [
       "\u001b[2;36m[16:53:51]\u001b[0m\u001b[2;36m \u001b[0m\u001b[33mWARNING \u001b[0m Could not load country code map: \u001b[1m[\u001b[0mErrno \u001b[1;36m2\u001b[0m\u001b[1m]\u001b[0m No such file or directory:             \u001b]8;id=458699;file:///Users/njf/code/frankenstein/eval/matcher.py\u001b\\\u001b[2mmatcher.py\u001b[0m\u001b]8;;\u001b\\\u001b[2m:\u001b[0m\u001b]8;id=64395;file:///Users/njf/code/frankenstein/eval/matcher.py#32\u001b\\\u001b[2m32\u001b[0m\u001b]8;;\u001b\\\n",
       "\u001b[2;36m           \u001b[0m         \u001b[32m'resources/un_m49_cleaned.csv'\u001b[0m                                                    \u001b[2m             \u001b[0m\n"
      ]
     },
     "metadata": {},
     "output_type": "display_data"
    },
    {
     "name": "stdout",
     "output_type": "stream",
     "text": [
      "Found 50 runs in runs:\n",
      "  Mistral-Small-3.1-24B_answerable-full_all-tools_0-shot\n",
      "  Llama-3.1-8B-Instruct_answerable-full_all-tools_1-shot\n",
      "  Qwen3-14B_answerable-full_data-tools_0-shot\n",
      "  Qwen3-14B_answerable-full_all-tools_0-shot\n",
      "  Llama-3.2-3B-Instruct_answerable-full_all-tools_3-shot\n",
      "  Qwen3-4B_answerable-full_data-tools_0-shot\n",
      "  Qwen3-32B_answerable-full_all-tools_1-shot\n",
      "  Mistral-Small-3.1-24B_answerable-partial_all-tools_0-shot\n",
      "  gpt-4.1-mini_answerable-full_all-tools_1-shot\n",
      "  Llama-3.1-70B-Instruct_answerable-full_all-tools_3-shot\n",
      "  gpt-4o-mini_answerable-full_all-tools_1-shot\n",
      "  Llama-3.3-70B-Instruct_answerable-partial_all-tools_0-shot\n",
      "  Llama-3.1-8B-Instruct_answerable-full_data-tools_0-shot\n",
      "  Llama-3.2-3B-Instruct_answerable-full_data-tools_0-shot\n",
      "  Llama-3.1-8B-Instruct_answerable-full_all-tools_3-shot\n",
      "  Qwen3-32B_answerable-full_data-tools_0-shot\n",
      "  Qwen3-4B_answerable-full_all-tools_0-shot\n",
      "  Llama-3.3-70B-Instruct_answerable-full_all-tools_0-shot\n",
      "  Qwen3-14B_answerable-partial_all-tools_0-shot\n",
      "  gpt-4o-mini_answerable-full_data-tools_0-shot\n",
      "  gpt-4.1-mini_answerable-full_all-tools_3-shot\n",
      "  Llama-3.1-70B-Instruct_answerable-full_all-tools_1-shot\n",
      "  Qwen3-32B_answerable-full_all-tools_3-shot\n",
      "  Qwen3-4B_answerable-full_arithmetic-tools_0-shot\n",
      "  Qwen3-32B_answerable-partial_all-tools_0-shot\n",
      "  Llama-3.2-3B-Instruct_answerable-partial_all-tools_0-shot\n",
      "  gpt-4o-mini_answerable-full_all-tools_3-shot\n",
      "  Llama-3.3-70B-Instruct_answerable-full_data-tools_0-shot\n",
      "  Qwen3-32B_answerable-full_all-tools_0-shot\n",
      "  gpt-4o-mini_answerable-partial_all-tools_0-shot\n",
      "  gpt-4.1-mini_answerable-full_all-tools_0-shot\n",
      "  Llama-3.1-8B-Instruct_answerable-partial_all-tools_0-shot\n",
      "  gpt-4o-mini_answerable-full_all-tools_0-shot\n",
      "  Llama-3.1-70B-Instruct_answerable-full_data-tools_0-shot\n",
      "  Llama-3.1-8B-Instruct_answerable-full_all-tools_0-shot\n",
      "  Mistral-Small-3.1-24B_answerable-full_all-tools_1-shot\n",
      "  Qwen3-14B_answerable-full_all-tools_1-shot\n",
      "  Llama-3.3-70B-Instruct_answerable-full_all-tools_3-shot\n",
      "  Qwen3-4B_answerable-full_all-tools_3-shot\n",
      "  Llama-3.1-70B-Instruct_answerable-partial_all-tools_0-shot\n",
      "  Llama-3.1-70B-Instruct_answerable-full_all-tools_0-shot\n",
      "  gpt-4.1-mini_answerable-full_data-tools_0-shot\n",
      "  Mistral-Small-3.1-24B_answerable-full_data-tools_0-shot\n",
      "  Mistral-Small-3.1-24B_answerable-full_all-tools_3-shot\n",
      "  gpt-4.1-mini_answerable-partial_all-tools_0-shot\n",
      "  Llama-3.3-70B-Instruct_answerable-full_all-tools_1-shot\n",
      "  Qwen3-4B_answerable-full_all-tools_1-shot\n",
      "  Qwen3-14B_answerable-full_all-tools_3-shot\n",
      "  Llama-3.2-3B-Instruct_answerable-full_all-tools_0-shot\n",
      "  Qwen3-4B_answerable-partial_all-tools_0-shot\n"
     ]
    }
   ],
   "source": [
    "import inspect\n",
    "import os\n",
    "import sys\n",
    "from pathlib import Path\n",
    "\n",
    "import analysis\n",
    "import pandas as pd\n",
    "\n",
    "# In Jupyter, __file__ is not defined, so use the current working directory\n",
    "sys.path.insert(0, os.path.abspath(os.path.join(os.getcwd(), '..')))\n",
    "\n",
    "import matcher\n",
    "\n",
    "from frankenstein.tools import arithmetic, data_retrieval\n",
    "\n",
    "ARITHMETIC_TOOL_NAMES = [name for name, _ in inspect.getmembers(arithmetic, predicate=inspect.isfunction)]\n",
    "DATA_TOOL_NAMES = [name for name, _ in inspect.getmembers(data_retrieval, predicate=inspect.isfunction)]\n",
    "\n",
    "run_dir = Path('runs')\n",
    "dfs = {f.stem: pd.read_json(f, orient='records', lines=True, precise_float=True) for f in run_dir.iterdir()}\n",
    "print(f'Found {len(dfs)} runs in {run_dir}:')\n",
    "for name in dfs:\n",
    "    print(f'  {name}')\n",
    "\n",
    "m = matcher.Matcher()"
   ]
  },
  {
   "cell_type": "code",
   "execution_count": 2,
   "id": "2c2b6691",
   "metadata": {},
   "outputs": [],
   "source": [
    "df = dfs['Llama-3.1-70B-Instruct_answerable-full_all-tools_0-shot']"
   ]
  },
  {
   "cell_type": "code",
   "execution_count": 3,
   "id": "a2da0288",
   "metadata": {},
   "outputs": [
    {
     "data": {
      "text/html": [
       "<div>\n",
       "<style scoped>\n",
       "    .dataframe tbody tr th:only-of-type {\n",
       "        vertical-align: middle;\n",
       "    }\n",
       "\n",
       "    .dataframe tbody tr th {\n",
       "        vertical-align: top;\n",
       "    }\n",
       "\n",
       "    .dataframe thead th {\n",
       "        text-align: right;\n",
       "    }\n",
       "</style>\n",
       "<table border=\"1\" class=\"dataframe\">\n",
       "  <thead>\n",
       "    <tr style=\"text-align: right;\">\n",
       "      <th></th>\n",
       "      <th>id</th>\n",
       "      <th>question_template</th>\n",
       "      <th>question</th>\n",
       "      <th>actions</th>\n",
       "      <th>answer</th>\n",
       "      <th>slot_values</th>\n",
       "      <th>answerable</th>\n",
       "      <th>data_availability</th>\n",
       "      <th>answer_format</th>\n",
       "      <th>messages</th>\n",
       "      <th>tokens</th>\n",
       "      <th>pred</th>\n",
       "      <th>correct</th>\n",
       "      <th>error</th>\n",
       "    </tr>\n",
       "  </thead>\n",
       "  <tbody>\n",
       "    <tr>\n",
       "      <th>0</th>\n",
       "      <td>859b3565-fdd3-4c76-9c40-a2fa528ec406</td>\n",
       "      <td>AverageChange</td>\n",
       "      <td>What was the average yearly change in the perc...</td>\n",
       "      <td>[{'name': 'get_country_code_from_name', 'argum...</td>\n",
       "      <td>-0.48044</td>\n",
       "      <td>{'property': 'SE.PRE.ENRR', 'subject': 'BEL', ...</td>\n",
       "      <td>True</td>\n",
       "      <td>full</td>\n",
       "      <td>float</td>\n",
       "      <td>[{'role': 'system', 'content': 'You are a help...</td>\n",
       "      <td>2996</td>\n",
       "      <td>No data is available for country code</td>\n",
       "      <td>False</td>\n",
       "      <td>100.0</td>\n",
       "    </tr>\n",
       "  </tbody>\n",
       "</table>\n",
       "</div>"
      ],
      "text/plain": [
       "                                     id question_template  \\\n",
       "0  859b3565-fdd3-4c76-9c40-a2fa528ec406     AverageChange   \n",
       "\n",
       "                                            question  \\\n",
       "0  What was the average yearly change in the perc...   \n",
       "\n",
       "                                             actions   answer  \\\n",
       "0  [{'name': 'get_country_code_from_name', 'argum... -0.48044   \n",
       "\n",
       "                                         slot_values  answerable  \\\n",
       "0  {'property': 'SE.PRE.ENRR', 'subject': 'BEL', ...        True   \n",
       "\n",
       "  data_availability answer_format  \\\n",
       "0              full         float   \n",
       "\n",
       "                                            messages  tokens  \\\n",
       "0  [{'role': 'system', 'content': 'You are a help...    2996   \n",
       "\n",
       "                                     pred  correct  error  \n",
       "0  No data is available for country code     False  100.0  "
      ]
     },
     "execution_count": 3,
     "metadata": {},
     "output_type": "execute_result"
    }
   ],
   "source": [
    "df.head(1)"
   ]
  },
  {
   "cell_type": "code",
   "execution_count": 4,
   "id": "4f9fd115",
   "metadata": {},
   "outputs": [],
   "source": [
    "df['gold_tool_calls'] = df.apply(analysis.get_gold_tool_calls, axis=1)\n",
    "df['pred_tool_calls'] = df.apply(analysis.get_pred_tool_calls, axis=1)\n",
    "df['true_positives'] = df.apply(analysis.get_true_positives, axis=1)\n",
    "df['false_positives'] = df.apply(analysis.get_false_positives, axis=1)\n"
   ]
  },
  {
   "cell_type": "code",
   "execution_count": 5,
   "id": "3d9df37d",
   "metadata": {},
   "outputs": [
    {
     "data": {
      "text/plain": [
       "[{'name': 'get_country_code_from_name',\n",
       "  'arguments': {'country_name': 'Belgium'},\n",
       "  'result': 'BEL',\n",
       "  'id': None},\n",
       " {'name': 'search_for_indicator_names',\n",
       "  'arguments': {'keywords': 'School enrollment, preprimary (% gross)'},\n",
       "  'result': [{'indicator_name': 'School enrollment, preprimary (% gross)',\n",
       "    'indicator_description': 'Gross enrollment ratio is the ratio of total enrollment, regardless of age, to the population of the age group that officially corresponds to the level of education shown. Preprimary education refers to programs at the initial stage of organized instruction, designed primarily to introduce very young children to a school-type environment and to provide a bridge between home and school.'}],\n",
       "  'id': None},\n",
       " {'name': 'get_indicator_code_from_name',\n",
       "  'arguments': {'indicator_name': 'School enrollment, preprimary (% gross)'},\n",
       "  'result': 'SE.PRE.ENRR',\n",
       "  'id': None},\n",
       " {'name': 'retrieve_value',\n",
       "  'arguments': {'country_code': 'BEL',\n",
       "   'indicator_code': 'SE.PRE.ENRR',\n",
       "   'year': '2009'},\n",
       "  'result': 118.35961,\n",
       "  'id': None},\n",
       " {'name': 'retrieve_value',\n",
       "  'arguments': {'country_code': 'BEL',\n",
       "   'indicator_code': 'SE.PRE.ENRR',\n",
       "   'year': '2010'},\n",
       "  'result': 119.37523,\n",
       "  'id': None},\n",
       " {'name': 'retrieve_value',\n",
       "  'arguments': {'country_code': 'BEL',\n",
       "   'indicator_code': 'SE.PRE.ENRR',\n",
       "   'year': '2011'},\n",
       "  'result': 120.61282,\n",
       "  'id': None},\n",
       " {'name': 'retrieve_value',\n",
       "  'arguments': {'country_code': 'BEL',\n",
       "   'indicator_code': 'SE.PRE.ENRR',\n",
       "   'year': '2012'},\n",
       "  'result': 120.08512,\n",
       "  'id': None},\n",
       " {'name': 'retrieve_value',\n",
       "  'arguments': {'country_code': 'BEL',\n",
       "   'indicator_code': 'SE.PRE.ENRR',\n",
       "   'year': '2013'},\n",
       "  'result': 118.83549,\n",
       "  'id': None},\n",
       " {'name': 'retrieve_value',\n",
       "  'arguments': {'country_code': 'BEL',\n",
       "   'indicator_code': 'SE.PRE.ENRR',\n",
       "   'year': '2014'},\n",
       "  'result': 118.24409,\n",
       "  'id': None},\n",
       " {'name': 'retrieve_value',\n",
       "  'arguments': {'country_code': 'BEL',\n",
       "   'indicator_code': 'SE.PRE.ENRR',\n",
       "   'year': '2015'},\n",
       "  'result': 117.01423,\n",
       "  'id': None},\n",
       " {'name': 'retrieve_value',\n",
       "  'arguments': {'country_code': 'BEL',\n",
       "   'indicator_code': 'SE.PRE.ENRR',\n",
       "   'year': '2016'},\n",
       "  'result': 116.09559,\n",
       "  'id': None},\n",
       " {'name': 'retrieve_value',\n",
       "  'arguments': {'country_code': 'BEL',\n",
       "   'indicator_code': 'SE.PRE.ENRR',\n",
       "   'year': '2017'},\n",
       "  'result': 115.14532,\n",
       "  'id': None},\n",
       " {'name': 'retrieve_value',\n",
       "  'arguments': {'country_code': 'BEL',\n",
       "   'indicator_code': 'SE.PRE.ENRR',\n",
       "   'year': '2018'},\n",
       "  'result': 114.03566,\n",
       "  'id': None},\n",
       " {'name': 'subtract',\n",
       "  'arguments': {'value_a': 119.37523, 'value_b': 118.35961},\n",
       "  'result': 1.01562,\n",
       "  'id': None},\n",
       " {'name': 'subtract',\n",
       "  'arguments': {'value_a': 120.61282, 'value_b': 119.37523},\n",
       "  'result': 1.23759,\n",
       "  'id': None},\n",
       " {'name': 'subtract',\n",
       "  'arguments': {'value_a': 120.08512, 'value_b': 120.61282},\n",
       "  'result': -0.5277,\n",
       "  'id': None},\n",
       " {'name': 'subtract',\n",
       "  'arguments': {'value_a': 118.83549, 'value_b': 120.08512},\n",
       "  'result': -1.24963,\n",
       "  'id': None},\n",
       " {'name': 'subtract',\n",
       "  'arguments': {'value_a': 118.24409, 'value_b': 118.83549},\n",
       "  'result': -0.5914,\n",
       "  'id': None},\n",
       " {'name': 'subtract',\n",
       "  'arguments': {'value_a': 117.01423, 'value_b': 118.24409},\n",
       "  'result': -1.22986,\n",
       "  'id': None},\n",
       " {'name': 'subtract',\n",
       "  'arguments': {'value_a': 116.09559, 'value_b': 117.01423},\n",
       "  'result': -0.91864,\n",
       "  'id': None},\n",
       " {'name': 'subtract',\n",
       "  'arguments': {'value_a': 115.14532, 'value_b': 116.09559},\n",
       "  'result': -0.95027,\n",
       "  'id': None},\n",
       " {'name': 'subtract',\n",
       "  'arguments': {'value_a': 114.03566, 'value_b': 115.14532},\n",
       "  'result': -1.10966,\n",
       "  'id': None},\n",
       " {'name': 'mean',\n",
       "  'arguments': {'values': [-1.24963,\n",
       "    -1.22986,\n",
       "    -1.10966,\n",
       "    -0.95027,\n",
       "    -0.91864,\n",
       "    -0.5914,\n",
       "    -0.5277,\n",
       "    1.01562,\n",
       "    1.23759]},\n",
       "  'result': -0.48044,\n",
       "  'id': None}]"
      ]
     },
     "execution_count": 5,
     "metadata": {},
     "output_type": "execute_result"
    }
   ],
   "source": [
    "df['actions'].iloc[0]"
   ]
  },
  {
   "cell_type": "code",
   "execution_count": 6,
   "id": "1b96d966",
   "metadata": {},
   "outputs": [
    {
     "data": {
      "text/plain": [
       "([{'name': 'get_country_code_from_name',\n",
       "   'arguments': {'country_name': 'Belgium'}},\n",
       "  {'name': 'search_for_indicator_names',\n",
       "   'arguments': {'keywords': 'School enrollment, preprimary (% gross)'}},\n",
       "  {'name': 'get_indicator_code_from_name',\n",
       "   'arguments': {'indicator_name': 'School enrollment, preprimary (% gross)'}},\n",
       "  {'name': 'retrieve_value',\n",
       "   'arguments': {'country_code': 'BEL',\n",
       "    'indicator_code': 'SE.PRE.ENRR',\n",
       "    'year': '2009'}},\n",
       "  {'name': 'retrieve_value',\n",
       "   'arguments': {'country_code': 'BEL',\n",
       "    'indicator_code': 'SE.PRE.ENRR',\n",
       "    'year': '2010'}},\n",
       "  {'name': 'retrieve_value',\n",
       "   'arguments': {'country_code': 'BEL',\n",
       "    'indicator_code': 'SE.PRE.ENRR',\n",
       "    'year': '2011'}},\n",
       "  {'name': 'retrieve_value',\n",
       "   'arguments': {'country_code': 'BEL',\n",
       "    'indicator_code': 'SE.PRE.ENRR',\n",
       "    'year': '2012'}},\n",
       "  {'name': 'retrieve_value',\n",
       "   'arguments': {'country_code': 'BEL',\n",
       "    'indicator_code': 'SE.PRE.ENRR',\n",
       "    'year': '2013'}},\n",
       "  {'name': 'retrieve_value',\n",
       "   'arguments': {'country_code': 'BEL',\n",
       "    'indicator_code': 'SE.PRE.ENRR',\n",
       "    'year': '2014'}},\n",
       "  {'name': 'retrieve_value',\n",
       "   'arguments': {'country_code': 'BEL',\n",
       "    'indicator_code': 'SE.PRE.ENRR',\n",
       "    'year': '2015'}},\n",
       "  {'name': 'retrieve_value',\n",
       "   'arguments': {'country_code': 'BEL',\n",
       "    'indicator_code': 'SE.PRE.ENRR',\n",
       "    'year': '2016'}},\n",
       "  {'name': 'retrieve_value',\n",
       "   'arguments': {'country_code': 'BEL',\n",
       "    'indicator_code': 'SE.PRE.ENRR',\n",
       "    'year': '2017'}},\n",
       "  {'name': 'retrieve_value',\n",
       "   'arguments': {'country_code': 'BEL',\n",
       "    'indicator_code': 'SE.PRE.ENRR',\n",
       "    'year': '2018'}},\n",
       "  {'name': 'subtract',\n",
       "   'arguments': {'value_a': 119.37523, 'value_b': 118.35961}},\n",
       "  {'name': 'subtract',\n",
       "   'arguments': {'value_a': 120.61282, 'value_b': 119.37523}},\n",
       "  {'name': 'subtract',\n",
       "   'arguments': {'value_a': 120.08512, 'value_b': 120.61282}},\n",
       "  {'name': 'subtract',\n",
       "   'arguments': {'value_a': 118.83549, 'value_b': 120.08512}},\n",
       "  {'name': 'subtract',\n",
       "   'arguments': {'value_a': 118.24409, 'value_b': 118.83549}},\n",
       "  {'name': 'subtract',\n",
       "   'arguments': {'value_a': 117.01423, 'value_b': 118.24409}},\n",
       "  {'name': 'subtract',\n",
       "   'arguments': {'value_a': 116.09559, 'value_b': 117.01423}},\n",
       "  {'name': 'subtract',\n",
       "   'arguments': {'value_a': 115.14532, 'value_b': 116.09559}},\n",
       "  {'name': 'subtract',\n",
       "   'arguments': {'value_a': 114.03566, 'value_b': 115.14532}},\n",
       "  {'name': 'mean',\n",
       "   'arguments': {'values': [-1.24963,\n",
       "     -1.22986,\n",
       "     -1.10966,\n",
       "     -0.95027,\n",
       "     -0.91864,\n",
       "     -0.5914,\n",
       "     -0.5277,\n",
       "     1.01562,\n",
       "     1.23759]}}],\n",
       " 23)"
      ]
     },
     "execution_count": 6,
     "metadata": {},
     "output_type": "execute_result"
    }
   ],
   "source": [
    "df['gold_tool_calls'].iloc[0], len(df['gold_tool_calls'].iloc[0])"
   ]
  },
  {
   "cell_type": "code",
   "execution_count": 7,
   "id": "294a6791",
   "metadata": {},
   "outputs": [
    {
     "data": {
      "text/plain": [
       "([{'name': 'get_country_code_from_name',\n",
       "   'arguments': {'country_name': 'Belgium'}},\n",
       "  {'name': 'search_for_indicator_names',\n",
       "   'arguments': {'keywords': 'School enrollment, preprimary (% gross)'}},\n",
       "  {'name': 'get_indicator_code_from_name',\n",
       "   'arguments': {'indicator_name': 'School enrollment, preprimary (% gross)'}}],\n",
       " 3)"
      ]
     },
     "execution_count": 7,
     "metadata": {},
     "output_type": "execute_result"
    }
   ],
   "source": [
    "df['true_positives'].iloc[0], len(df['true_positives'].iloc[0])"
   ]
  },
  {
   "cell_type": "code",
   "execution_count": 8,
   "id": "200d688e",
   "metadata": {},
   "outputs": [
    {
     "data": {
      "text/plain": [
       "[{'name': 'think',\n",
       "  'arguments': {'thought': 'To calculate the average yearly change in the percentage of children enrolled in preprimary education in Belgium for each year between 2009 and 2018, we need to first retrieve the values of the indicator for each year. Then, we can calculate the differences between consecutive years and find the average of these differences.'}},\n",
       " {'name': 'get_indicator_code_from_name',\n",
       "  'arguments': {'indicator_name': 'Percentage of children enrolled in preprimary education'}},\n",
       " {'name': 'retrieve_value',\n",
       "  'arguments': {'country_code': 'BEL',\n",
       "   'indicator_code': 'SE.PRE.ENRR',\n",
       "   'year': [2009, 2010, 2011, 2012, 2013, 2014, 2015, 2016, 2017, 2018]}}]"
      ]
     },
     "execution_count": 8,
     "metadata": {},
     "output_type": "execute_result"
    }
   ],
   "source": [
    "df['false_positives'].iloc[0]"
   ]
  },
  {
   "cell_type": "code",
   "execution_count": 9,
   "id": "9532ae59",
   "metadata": {},
   "outputs": [],
   "source": [
    "df['coverage'] = df.apply(analysis.get_coverage, axis=1)\n",
    "df['recall'] = df.apply(analysis.get_recall, axis=1)"
   ]
  },
  {
   "cell_type": "code",
   "execution_count": 10,
   "id": "11ff2d09",
   "metadata": {},
   "outputs": [
    {
     "data": {
      "text/plain": [
       "np.float64(0.13043478260869565)"
      ]
     },
     "execution_count": 10,
     "metadata": {},
     "output_type": "execute_result"
    }
   ],
   "source": [
    "df['recall'].iloc[0]"
   ]
  },
  {
   "cell_type": "code",
   "execution_count": 11,
   "id": "625b0209",
   "metadata": {},
   "outputs": [],
   "source": [
    "df['precision'] = df.apply(analysis.get_precision, axis=1)\n",
    "df['error_made'] = df.apply(analysis.get_error_made, axis=1)\n",
    "df['no_search_for_indicator_names'] = df.apply(analysis.get_no_search_for_indicator_names, axis=1)"
   ]
  },
  {
   "cell_type": "code",
   "execution_count": 12,
   "id": "d4ecc940",
   "metadata": {},
   "outputs": [
    {
     "data": {
      "text/html": [
       "<div>\n",
       "<style scoped>\n",
       "    .dataframe tbody tr th:only-of-type {\n",
       "        vertical-align: middle;\n",
       "    }\n",
       "\n",
       "    .dataframe tbody tr th {\n",
       "        vertical-align: top;\n",
       "    }\n",
       "\n",
       "    .dataframe thead th {\n",
       "        text-align: right;\n",
       "    }\n",
       "</style>\n",
       "<table border=\"1\" class=\"dataframe\">\n",
       "  <thead>\n",
       "    <tr style=\"text-align: right;\">\n",
       "      <th>Error Made</th>\n",
       "      <th>False</th>\n",
       "      <th>True</th>\n",
       "    </tr>\n",
       "    <tr>\n",
       "      <th>Correct Answer Given</th>\n",
       "      <th></th>\n",
       "      <th></th>\n",
       "    </tr>\n",
       "  </thead>\n",
       "  <tbody>\n",
       "    <tr>\n",
       "      <th>False</th>\n",
       "      <td>171</td>\n",
       "      <td>123</td>\n",
       "    </tr>\n",
       "    <tr>\n",
       "      <th>True</th>\n",
       "      <td>75</td>\n",
       "      <td>31</td>\n",
       "    </tr>\n",
       "  </tbody>\n",
       "</table>\n",
       "</div>"
      ],
      "text/plain": [
       "Error Made            False  True \n",
       "Correct Answer Given              \n",
       "False                   171    123\n",
       "True                     75     31"
      ]
     },
     "execution_count": 12,
     "metadata": {},
     "output_type": "execute_result"
    }
   ],
   "source": [
    "pd.crosstab(\n",
    "    df['correct'],\n",
    "    df['error_made'],\n",
    "    rownames=['Correct Answer Given'],\n",
    "    colnames=['Error Made'],\n",
    ")"
   ]
  },
  {
   "cell_type": "code",
   "execution_count": 13,
   "id": "1fc0b822",
   "metadata": {},
   "outputs": [
    {
     "data": {
      "text/html": [
       "<div>\n",
       "<style scoped>\n",
       "    .dataframe tbody tr th:only-of-type {\n",
       "        vertical-align: middle;\n",
       "    }\n",
       "\n",
       "    .dataframe tbody tr th {\n",
       "        vertical-align: top;\n",
       "    }\n",
       "\n",
       "    .dataframe thead th {\n",
       "        text-align: right;\n",
       "    }\n",
       "</style>\n",
       "<table border=\"1\" class=\"dataframe\">\n",
       "  <thead>\n",
       "    <tr style=\"text-align: right;\">\n",
       "      <th>No Search for Indicator Names</th>\n",
       "      <th>False</th>\n",
       "      <th>True</th>\n",
       "    </tr>\n",
       "    <tr>\n",
       "      <th>Correct Answer Given</th>\n",
       "      <th></th>\n",
       "      <th></th>\n",
       "    </tr>\n",
       "  </thead>\n",
       "  <tbody>\n",
       "    <tr>\n",
       "      <th>False</th>\n",
       "      <td>101</td>\n",
       "      <td>193</td>\n",
       "    </tr>\n",
       "    <tr>\n",
       "      <th>True</th>\n",
       "      <td>30</td>\n",
       "      <td>76</td>\n",
       "    </tr>\n",
       "  </tbody>\n",
       "</table>\n",
       "</div>"
      ],
      "text/plain": [
       "No Search for Indicator Names  False  True \n",
       "Correct Answer Given                       \n",
       "False                            101    193\n",
       "True                              30     76"
      ]
     },
     "execution_count": 13,
     "metadata": {},
     "output_type": "execute_result"
    }
   ],
   "source": [
    "pd.crosstab(\n",
    "    df['correct'],\n",
    "    df['no_search_for_indicator_names'],\n",
    "    rownames=['Correct Answer Given'],\n",
    "    colnames=['No Search for Indicator Names'],\n",
    ")"
   ]
  }
 ],
 "metadata": {
  "kernelspec": {
   "display_name": "frankenstein",
   "language": "python",
   "name": "python3"
  },
  "language_info": {
   "codemirror_mode": {
    "name": "ipython",
    "version": 3
   },
   "file_extension": ".py",
   "mimetype": "text/x-python",
   "name": "python",
   "nbconvert_exporter": "python",
   "pygments_lexer": "ipython3",
   "version": "3.12.11"
  }
 },
 "nbformat": 4,
 "nbformat_minor": 5
}
