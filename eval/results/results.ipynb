{
 "cells": [
  {
   "cell_type": "code",
   "execution_count": 42,
   "id": "ad711007",
   "metadata": {},
   "outputs": [],
   "source": [
    "from pathlib import Path\n",
    "\n",
    "import pandas as pd"
   ]
  },
  {
   "cell_type": "code",
   "execution_count": 43,
   "id": "9531359b",
   "metadata": {},
   "outputs": [],
   "source": [
    "LOG_PATH = Path('..', 'log').with_suffix('.jsonl')"
   ]
  },
  {
   "cell_type": "code",
   "execution_count": 44,
   "id": "b26de66c",
   "metadata": {},
   "outputs": [],
   "source": [
    "run_path = Path('/Users/njf/code/frankie/eval/runs/2025-05-05T22:52:48.jsonl')\n",
    "with open(run_path) as run_file:\n",
    "    data = pd.read_json(run_file, lines=True)"
   ]
  },
  {
   "cell_type": "code",
   "execution_count": 45,
   "id": "90a0da84",
   "metadata": {},
   "outputs": [],
   "source": [
    "row = data.sample(1)"
   ]
  },
  {
   "cell_type": "code",
   "execution_count": 46,
   "id": "4e314be4",
   "metadata": {},
   "outputs": [
    {
     "data": {
      "text/plain": [
       "{8: [{'role': 'system',\n",
       "   'content': \"You are a helpful assistant tasked with answering questions that require multiple intermediate steps of reasoning to arrive at a final answer.\\n\\nThe questions involve using World Bank data for various countries and indicators, and you have access to a set of tools that can help you retrieve and process this data.\\n\\nStep-by-step, use the tools provided to execute that plan. Use the `think` tool to think aloud about the steps you will take to solve the problem. Use the `final_answer` tool to return your final answer.\\n\\nUse the results of each tool call to inform your next step. Note that passing tool calls as the arguments to other tool calls is not allowed. Instead, execute each tool call separately and use the results to perform subsequent calls.\\n\\nIf a tool call fails, use the error message to help you debug the issue, re-plan, and try again if possible.\\n\\nBear in mind that some data may not be available for certain countries, indicators, or years, but the question may still be answerable.\\n\\nThe tools you have access to are below:\\n\\n[{'type': 'function', 'function': {'name': 'add', 'description': 'Add a list of numbers.', 'parameters': {'type': 'object', 'properties': {'values': {'type': 'array', 'items': {'type': 'number'}, 'description': 'A list of numbers to add.'}}, 'required': ['values']}}}, {'type': 'function', 'function': {'name': 'divide', 'description': 'Divide two numbers.', 'parameters': {'type': 'object', 'properties': {'a': {'type': 'number', 'description': 'The first number.'}, 'b': {'type': 'number', 'description': 'The second number.'}}, 'required': ['a', 'b']}}}, {'type': 'function', 'function': {'name': 'final_answer', 'description': 'Indicate that the final answer has been computed.', 'parameters': {'type': 'object', 'properties': {'answer': {'type': 'string', 'description': 'The final answer to the question.'}}, 'required': ['answer']}}}, {'type': 'function', 'function': {'name': 'get_country_codes_in_region', 'description': 'Get the list of countries which are members of a region.', 'parameters': {'type': 'object', 'properties': {'region_name': {'type': 'string', 'description': 'The region to get the countries for.'}}, 'required': ['region_name']}}}, {'type': 'function', 'function': {'name': 'get_country_code_from_name', 'description': 'Get the three-letter country code from a country name.', 'parameters': {'type': 'object', 'properties': {'country_name': {'type': 'string', 'description': 'The name of the country to get the code for.'}}, 'required': ['country_name']}}}, {'type': 'function', 'function': {'name': 'get_indicator_code_from_name', 'description': 'Get the indicator code from an indicator name.', 'parameters': {'type': 'object', 'properties': {'indicator_name': {'type': 'string', 'description': 'The name of the indicator to get the code for.'}}, 'required': ['indicator_name']}}}, {'type': 'function', 'function': {'name': 'greater_than', 'description': 'Check if a is greater than b.', 'parameters': {'type': 'object', 'properties': {'a': {'type': 'number', 'description': 'The first number.'}, 'b': {'type': 'number', 'description': 'The second number.'}}, 'required': ['a', 'b']}}}, {'type': 'function', 'function': {'name': 'less_than', 'description': 'Check if a is less than b.', 'parameters': {'type': 'object', 'properties': {'a': {'type': 'number', 'description': 'The first number.'}, 'b': {'type': 'number', 'description': 'The second number.'}}, 'required': ['a', 'b']}}}, {'type': 'function', 'function': {'name': 'maximum', 'description': 'Return the maximum of a list of numbers.', 'parameters': {'type': 'object', 'properties': {'values': {'type': 'array', 'items': {'type': 'number'}, 'description': 'A list of numbers to Return the maximum for.'}}, 'required': ['values']}}}, {'type': 'function', 'function': {'name': 'mean', 'description': 'Calculate the mean of a list of numbers.', 'parameters': {'type': 'object', 'properties': {'values': {'type': 'array', 'items': {'type': 'number'}, 'description': 'A list of numbers to calculate the mean for.'}}, 'required': ['values']}}}, {'type': 'function', 'function': {'name': 'median', 'description': 'Calculate the median of a list of numbers.', 'parameters': {'type': 'object', 'properties': {'values': {'type': 'array', 'items': {'type': 'number'}, 'description': 'A list of numbers to calculate the median for.'}}, 'required': ['values']}}}, {'type': 'function', 'function': {'name': 'minimum', 'description': 'Return the minimum of a list of numbers.', 'parameters': {'type': 'object', 'properties': {'values': {'type': 'array', 'items': {'type': 'number'}, 'description': 'A list of numbers to Return the minimum for.'}}, 'required': ['values']}}}, {'type': 'function', 'function': {'name': 'mode', 'description': 'Calculate the mode of a list of numbers.', 'parameters': {'type': 'object', 'properties': {'values': {'type': 'array', 'items': {'type': 'number'}, 'description': 'A list of numbers to calculate the mode for.'}}, 'required': ['values']}}}, {'type': 'function', 'function': {'name': 'multiply', 'description': 'Multiply a list of numbers.', 'parameters': {'type': 'object', 'properties': {'values': {'type': 'array', 'items': {'type': 'number'}, 'description': 'values parameter'}}, 'required': ['values']}}}, {'type': 'function', 'function': {'name': 'retrieve_value', 'description': 'Return the value of an indicator for a country at a given year.', 'parameters': {'type': 'object', 'properties': {'country_code': {'type': 'string', 'description': 'The three-letter country code to look up the indicator for.'}, 'indicator_code': {'type': 'string', 'description': 'The indicator code to look up.'}, 'year': {'type': 'string', 'description': 'The year to look up the indicator for.'}}, 'required': ['country_code', 'indicator_code', 'year']}}}, {'type': 'function', 'function': {'name': 'sort', 'description': 'Sort a list of numbers.', 'parameters': {'type': 'object', 'properties': {'values': {'type': 'array', 'items': {'type': 'number'}, 'description': 'The list of numbers to sort.'}}, 'required': ['values']}}}, {'type': 'function', 'function': {'name': 'subtract', 'description': 'Subtract two numbers.', 'parameters': {'type': 'object', 'properties': {'a': {'type': 'number', 'description': 'The first number.'}, 'b': {'type': 'number', 'description': 'The second number.'}}, 'required': ['a', 'b']}}}, {'type': 'function', 'function': {'name': 'think', 'description': 'Think aloud about the actions required to solve the problem.', 'parameters': {'type': 'object', 'properties': {'thought': {'type': 'string', 'description': 'Your thought about the actions required to solve the problem.'}}, 'required': ['thought']}}}]\\n\\nPay attention to the tool names, arguments, descriptions, and the types of outputs they return, and think carefully about how to use them to solve the problem.\\n\\nIf there is a tool available that can help you with the next step, you must use it rather than trying to solve the problem without it.\\n\\nYour output must be a JSON structure as follows: {'tool_calls': [{'name': 'tool_name_1', 'arguments': {'arg1': 'value1', 'arg2': 'value2'}}, {'name': 'tool_name_2', 'arguments': {'arg1': 'value1', 'arg2': 'value2'}}, ...]}\\n\\nI will execute tool calls that you provide. You can use multiple tools in one step, make sure you follow the correct format.\\n\\nIf you have found the answer, call the final_answer tool and provide your answer as the argument, as below:\\n\\n{'tool_calls': [{'name': 'final_answer', 'arguments': {'answer': '<your answer here>'}}]}\\n\\n\"},\n",
       "  {'role': 'user',\n",
       "   'content': 'What was the change in the Pupil-teacher ratio, primary of Panama between 2007 and 2016?'},\n",
       "  {'role': 'assistant',\n",
       "   'tool_calls': [{'type': 'function',\n",
       "     'function': {'name': 'think',\n",
       "      'arguments': '{\"thought\": \"To find the change in the Pupil-teacher ratio, primary of Panama between 2007 and 2016, I need to first retrieve the values of this indicator for Panama in 2007 and 2016.\"}'}}]},\n",
       "  {'role': 'tool',\n",
       "   'name': 'think',\n",
       "   'content': 'To find the change in the Pupil-teacher ratio, primary of Panama between 2007 and 2016, I need to first retrieve the values of this indicator for Panama in 2007 and 2016.'},\n",
       "  {'role': 'assistant',\n",
       "   'tool_calls': [{'type': 'function',\n",
       "     'function': {'name': 'get_country_code_from_name',\n",
       "      'arguments': '{\"country_name\": \"Panama\"}'}}]},\n",
       "  {'role': 'tool', 'name': 'get_country_code_from_name', 'content': 'PAN'},\n",
       "  {'role': 'assistant',\n",
       "   'tool_calls': [{'type': 'function',\n",
       "     'function': {'name': 'get_indicator_code_from_name',\n",
       "      'arguments': '{\"indicator_name\": \"Pupil-teacher ratio, primary\"}'}}]},\n",
       "  {'role': 'tool',\n",
       "   'name': 'get_indicator_code_from_name',\n",
       "   'content': 'SE.PRM.ENRL.TC.ZS'},\n",
       "  {'role': 'assistant',\n",
       "   'tool_calls': [{'type': 'function',\n",
       "     'function': {'name': 'retrieve_value',\n",
       "      'arguments': '{\"country_code\": \"[country_code result from previous step]\", \"indicator_code\": \"[indicator_code result from previous step]\", \"year\": \"2007\"}'}}]},\n",
       "  {'role': 'user',\n",
       "   'content': \"Country code '[country_code result from previous step]' is not valid. Ensure you have used the 'get_country_code_from_name' function to get the code from the country name.\"},\n",
       "  {'role': 'assistant',\n",
       "   'tool_calls': [{'type': 'function',\n",
       "     'function': {'name': 'retrieve_value',\n",
       "      'arguments': '{\"country_code\": \"[country_code result from previous step]\", \"indicator_code\": \"[indicator_code result from previous step]\", \"year\": \"2016\"}'}}]},\n",
       "  {'role': 'user',\n",
       "   'content': \"Country code '[country_code result from previous step]' is not valid. Ensure you have used the 'get_country_code_from_name' function to get the code from the country name.\"},\n",
       "  {'role': 'assistant',\n",
       "   'tool_calls': [{'type': 'function',\n",
       "     'function': {'name': 'subtract',\n",
       "      'arguments': '{\"a\": \"[value result from previous step (2016)]\", \"b\": \"[value result from previous step (2007)]\"}'}}]},\n",
       "  {'role': 'user',\n",
       "   'content': \"could not convert string to float: '[value result from previous step (2016)]'\"},\n",
       "  {'role': 'assistant',\n",
       "   'tool_calls': [{'type': 'function',\n",
       "     'function': {'name': 'retrieve_value',\n",
       "      'arguments': '{\"country_code\": \"PAN\", \"indicator_code\": \"SE.PRM.ENRL.TC.ZS\", \"year\": \"2007\"}'}}]},\n",
       "  {'role': 'tool', 'name': 'retrieve_value', 'content': '24.53809'},\n",
       "  {'role': 'assistant',\n",
       "   'tool_calls': [{'type': 'function',\n",
       "     'function': {'name': 'retrieve_value',\n",
       "      'arguments': '{\"country_code\": \"PAN\", \"indicator_code\": \"SE.PRM.ENRL.TC.ZS\", \"year\": \"2016\"}'}}]},\n",
       "  {'role': 'tool', 'name': 'retrieve_value', 'content': '21.44301'},\n",
       "  {'role': 'assistant',\n",
       "   'tool_calls': [{'type': 'function',\n",
       "     'function': {'name': 'subtract',\n",
       "      'arguments': '{\"a\": \"21.44301\", \"b\": \"24.53809\"}'}}]},\n",
       "  {'role': 'tool', 'name': 'subtract', 'content': '-3.0950799999999994'},\n",
       "  {'role': 'assistant',\n",
       "   'tool_calls': [{'type': 'function',\n",
       "     'function': {'name': 'final_answer', 'arguments': '{\"answer\": \"-3\"}'}}]},\n",
       "  {'role': 'tool', 'name': 'final_answer', 'content': '-3'}]}"
      ]
     },
     "execution_count": 46,
     "metadata": {},
     "output_type": "execute_result"
    }
   ],
   "source": [
    "row['messages'].to_dict()"
   ]
  },
  {
   "cell_type": "code",
   "execution_count": 49,
   "id": "a1d38841",
   "metadata": {},
   "outputs": [],
   "source": [
    "def get_model_final_answer(row):\n",
    "    # Get the final answer from the row\n",
    "    messages = row['messages'].to_dict()[row.index[0]]\n",
    "    # Get the messages where 'role' = 'tool' and 'name' = 'final_answer'\n",
    "    final_answer = [msg for msg in messages if msg['role'] == 'tool' and msg['name'] == 'final_answer']\n",
    "    if final_answer:\n",
    "        # Get the content of the final answer\n",
    "        final_answer_content = final_answer[0]['content']\n",
    "        # Convert the content to a string\n",
    "        final_answer_str = str(final_answer_content)\n",
    "        return final_answer_str\n",
    "    else:\n",
    "        # If no final answer is found, return None\n",
    "        return None\n",
    "\n",
    "def get_gold_final_answer(row):\n",
    "    # Get the final answer from the actions sequence\n",
    "    actions = row['actions'].to_dict()[row.index[0]]\n",
    "    # Get the actions where 'name' = 'final_answer'\n",
    "    final_answer = [action for action in actions if action['name'] == 'final_answer']\n",
    "    return final_answer['result']\n",
    "\n",
    "def get_model_tool_calls(row):\n",
    "    # Get the tool calls from the row\n",
    "    messages = row['messages'].to_dict()[row.index[0]]\n",
    "    # Get the messages where 'role' = 'tool'\n",
    "    tool_calls = [msg['tool_calls'][0]['function'] for msg in messages if msg['role'] == 'assistant' and 'tool_calls' in msg]\n",
    "    return tool_calls\n",
    "\n",
    "def get_gold_tool_calls(row):\n",
    "    # Get the tool calls from the actions sequence\n",
    "    actions = row['actions'].to_dict()[row.index[0]]\n",
    "    return actions"
   ]
  }
 ],
 "metadata": {
  "kernelspec": {
   "display_name": ".venv",
   "language": "python",
   "name": "python3"
  },
  "language_info": {
   "codemirror_mode": {
    "name": "ipython",
    "version": 3
   },
   "file_extension": ".py",
   "mimetype": "text/x-python",
   "name": "python",
   "nbconvert_exporter": "python",
   "pygments_lexer": "ipython3",
   "version": "3.12.10"
  }
 },
 "nbformat": 4,
 "nbformat_minor": 5
}
